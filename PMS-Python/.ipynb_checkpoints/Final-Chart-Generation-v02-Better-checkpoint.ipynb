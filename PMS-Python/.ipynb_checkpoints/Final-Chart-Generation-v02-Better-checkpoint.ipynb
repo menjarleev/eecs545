{
 "cells": [
  {
   "cell_type": "code",
   "execution_count": null,
   "metadata": {
    "scrolled": false
   },
   "outputs": [],
   "source": [
    "import numpy as np\n",
    "import matplotlib.pyplot as plt\n",
    "import pandas as pd\n",
    "\n",
    "norms_fake_na_lst = []\n",
    "norms_fake_lst = []\n",
    "norms_pms_lst = []\n",
    "\n",
    "ganv_lst = []\n",
    "bot_lst = []\n",
    "ks_lst = []\n",
    "lr_lst = []\n",
    "is_lst = []\n",
    "\n",
    "for gan_version in ['15ConstSpac', '34Orig', '34HighDensity', '34Expanded15']:\n",
    "#     for bot in range(96,107):\n",
    "    for bot in range(101,107):\n",
    "        for kernel_size in [1, 2, 3]:\n",
    "            for lr_val in [0.001, 0.0001]:\n",
    "                for infer_stud in [True, False]:\n",
    "                    try:\n",
    "                        norms_fake = np.load(f'./bottle_info/{gan_version}_{bot}_{kernel_size}_{lr_val}_{infer_stud}_norms_fake_.npy')\n",
    "                        actual_pts_keep_fake = np.load(f'./bottle_info/{gan_version}_{bot}_{kernel_size}_{lr_val}_{infer_stud}_actual_pts_keep_fake_.npy')\n",
    "                        scl_iv_keep_fake = np.load(f'./bottle_info/{gan_version}_{bot}_{kernel_size}_{lr_val}_{infer_stud}_scl_iv_keep_fake_.npy')\n",
    "                        norms_pms = np.load(f'./bottle_info/{gan_version}_{bot}_{kernel_size}_{lr_val}_{infer_stud}_norms_pms_.npy')\n",
    "                        actual_pts_keep_pms = np.load(f'./bottle_info/{gan_version}_{bot}_{kernel_size}_{lr_val}_{infer_stud}_actual_pts_keep_pms_.npy')\n",
    "                        scl_iv_keep_pms = np.load(f'./bottle_info/{gan_version}_{bot}_{kernel_size}_{lr_val}_{infer_stud}_scl_iv_keep_pms_.npy')\n",
    "                        plot_setup = np.load(f'./bottle_info/{gan_version}_{bot}_{kernel_size}_{lr_val}_{infer_stud}_plot_setup_.npy')\n",
    "                        \n",
    "                        ganv_lst.append(gan_version)\n",
    "                        bot_lst.append(bot)\n",
    "                        ks_lst.append(kernel_size)\n",
    "                        lr_lst.append(lr_val)\n",
    "                        is_lst.append(infer_stud)\n",
    "                        norms_fake_lst.append(norms_fake.mean())\n",
    "                        norms_pms_lst.append(norms_pms.mean())\n",
    "                    except:\n",
    "                        print(f'Missing Combo: GAN—{gan_version}, Bottle—{bot}, Kernel Size—{kernel_size}, Learning Rate—{lr_val}, Inferred Studio—{infer_stud}')\n",
    "                        continue\n",
    "                    "
   ]
  },
  {
   "cell_type": "code",
   "execution_count": null,
   "metadata": {},
   "outputs": [],
   "source": [
    "len(bot_lst)"
   ]
  },
  {
   "cell_type": "code",
   "execution_count": null,
   "metadata": {
    "scrolled": true
   },
   "outputs": [],
   "source": [
    "norms = pd.DataFrame([ganv_lst,\n",
    "                      bot_lst,\n",
    "                      ks_lst,\n",
    "                      lr_lst,\n",
    "                      is_lst,\n",
    "                      norms_fake_lst,\n",
    "                      norms_pms_lst], index=['gan_version',\n",
    "                                             'bot_num',\n",
    "                                             'kernel',\n",
    "                                             'learning_rate',\n",
    "                                             'inferred_stud',\n",
    "                                             'norms_fake_lst',\n",
    "                                             'norms_pms_lst']).T\n",
    "\n",
    "with pd.option_context('max_rows',1000):\n",
    "    display(norms)\n",
    "\n",
    "norms.to_csv('tmp_norm_csv_output-final.csv')"
   ]
  },
  {
   "cell_type": "code",
   "execution_count": null,
   "metadata": {},
   "outputs": [],
   "source": [
    "norms_type = norms.copy()\n",
    "\n",
    "\n",
    "norms_type['gan_version'] =  norms_type['gan_version'].map({'34Orig': 'A',\n",
    "                               '34HighDensity': 'B',\n",
    "                               '34Expanded15': 'C',\n",
    "                               '15ConstSpac': 'D'\n",
    "                              })\n",
    "\n",
    "norms_type['inferred_stud'] = norms_type['inferred_stud'].map({True: 'I', False: 'S'})\n",
    "norms_type['learning_rate'] = norms_type['learning_rate'].astype(str)\n",
    "\n",
    "\n",
    "# norms_type_tmp = norms_type[['gan_version', 'kernel', 'learning_rate', 'inferred_stud']].astype(str)\n",
    "# norms_type['combo_name'] = norms_type_tmp['gan_version'] + '_' + norms_type_tmp['kernel'] + '_' + norms_type_tmp['learning_rate'] + '_' + norms_type_tmp['inferred_stud']\n",
    "# norms_type['norms_pms_lst'] = norms_type['norms_pms_lst'].astype(float)"
   ]
  },
  {
   "cell_type": "code",
   "execution_count": null,
   "metadata": {},
   "outputs": [],
   "source": [
    "# norms_type['norms_pms_lst'].dtype"
   ]
  },
  {
   "cell_type": "code",
   "execution_count": null,
   "metadata": {},
   "outputs": [],
   "source": [
    "norms_type['norms_pms_lst']"
   ]
  },
  {
   "cell_type": "code",
   "execution_count": null,
   "metadata": {},
   "outputs": [],
   "source": []
  },
  {
   "cell_type": "code",
   "execution_count": null,
   "metadata": {},
   "outputs": [],
   "source": [
    "# norms_type_us = norms_type[['bot_num', 'combo_name', 'norms_fake_lst']].set_index(['bot_num', 'combo_name']).unstack().copy()\n",
    "\n",
    "final_setup_long = norms_type[['bot_num', 'gan_version', 'kernel', 'learning_rate', 'inferred_stud', 'norms_fake_lst', 'norms_pms_lst']].set_index(['gan_version', 'learning_rate', 'inferred_stud', 'kernel', 'bot_num']).stack().sort_index()\n",
    "norms_type_us = final_setup_long.unstack(-2).unstack(-1).copy()\n",
    "\n",
    "# norms_type_us['norms_pms_lst'] = norms_type.groupby(['bot_num'])['norms_pms_lst'].mean()\n",
    "# norms_type_us['norms_pms_lst'] = norms_type.groupby(['gan_version', 'kernel', 'learning_rate', 'inferred_stud'])['norms_pms_lst'].mean()\n"
   ]
  },
  {
   "cell_type": "code",
   "execution_count": null,
   "metadata": {},
   "outputs": [],
   "source": []
  },
  {
   "cell_type": "code",
   "execution_count": null,
   "metadata": {},
   "outputs": [],
   "source": [
    "# norms_type_us.astype(float).round(4).to_csv('./massive_table_of_exp_results.csv')\n",
    "norms_type_us.loc[:,104:106].astype(float).round(4)#.to_csv('./massive_table_of_exp_results.csv')\n",
    "# !python tably.py ./massive_table_of_exp_results.csv"
   ]
  },
  {
   "cell_type": "code",
   "execution_count": null,
   "metadata": {},
   "outputs": [],
   "source": []
  },
  {
   "cell_type": "code",
   "execution_count": null,
   "metadata": {},
   "outputs": [],
   "source": []
  },
  {
   "cell_type": "code",
   "execution_count": null,
   "metadata": {},
   "outputs": [],
   "source": []
  },
  {
   "cell_type": "code",
   "execution_count": null,
   "metadata": {},
   "outputs": [],
   "source": []
  },
  {
   "cell_type": "code",
   "execution_count": null,
   "metadata": {},
   "outputs": [],
   "source": [
    "PMS_plot_setup = final_setup_long.unstack()['norms_pms_lst'].astype(float)\n",
    "PMS_plot = PMS_plot_setup.unstack().groupby(['gan_version']).mean()\n",
    "ax = PMS_plot.plot.bar(figsize=(8,7),\n",
    "                       title='Surface L2 vs. Case by Example — Pure PMS',\n",
    "                       xlabel='Case',\n",
    "                       ylabel='Surface L2 (SL2)'\n",
    "                      )\n",
    "\n",
    "for tick in ax.get_xticklabels():\n",
    "    tick.set_rotation(0)\n",
    "plt.ylim((0,.15))\n",
    "plt.grid()\n",
    "plt.show()\n",
    "ax.get_figure().savefig('./final_plots/plt-ppms-01.png', dpi=200)\n",
    "\n",
    "ax = PMS_plot.plot.bar(figsize=(8,4),\n",
    "                       title='Surface L2 vs. Case by Example — Pure PMS',\n",
    "                       xlabel='Case',\n",
    "                       ylabel='Surface L2 (SL2)'\n",
    "                      )\n",
    "\n",
    "for tick in ax.get_xticklabels():\n",
    "    tick.set_rotation(0)\n",
    "plt.ylim((0,.15))\n",
    "plt.grid()\n",
    "plt.show()\n",
    "ax.get_figure().savefig('./final_plots/plt-ppms-02.png', dpi=200)\n"
   ]
  },
  {
   "cell_type": "code",
   "execution_count": null,
   "metadata": {},
   "outputs": [],
   "source": []
  },
  {
   "cell_type": "code",
   "execution_count": null,
   "metadata": {},
   "outputs": [],
   "source": [
    "# final_setup_long.unstack()['norms_fake_lst'].astype(float).unstack()\n"
   ]
  },
  {
   "cell_type": "code",
   "execution_count": null,
   "metadata": {},
   "outputs": [],
   "source": []
  },
  {
   "cell_type": "code",
   "execution_count": null,
   "metadata": {},
   "outputs": [],
   "source": [
    "GAN_LR_plot_setup = final_setup_long.unstack()['norms_fake_lst'].astype(float).reset_index()\n",
    "GAN_LR_plot_setup['is_rel'] = GAN_LR_plot_setup.reset_index()['kernel'] == 1\n",
    "GAN_LR_plot_setup = GAN_LR_plot_setup[GAN_LR_plot_setup['is_rel']].drop('is_rel', axis=1).set_index(['gan_version','learning_rate','inferred_stud','kernel','bot_num'])\n",
    "GAN_LR_plot_setup = GAN_LR_plot_setup['norms_fake_lst'].unstack()\n",
    "GAN_LR_plot_setup = GAN_LR_plot_setup.groupby(['gan_version', 'learning_rate']).min()\n",
    "\n",
    "ax = GAN_LR_plot_setup.plot.bar(figsize=(8,7),\n",
    "                       title='Surface L2 vs. Case / Learning Rate by Example — GAN PMS',\n",
    "                       xlabel='Case / GAN Learning Rate',\n",
    "                       ylabel='Surface L2 (SL2)'\n",
    "                      )\n",
    "ax.legend(loc='upper left')\n",
    "plt.ylim((0,.45))\n",
    "plt.grid()\n",
    "for tick in ax.get_xticklabels():\n",
    "    tick.set_rotation(0)\n",
    "plt.show()\n",
    "ax.get_figure().savefig('./final_plots/plt-lr-01.png', dpi=200)\n",
    "\n",
    "ax = GAN_LR_plot_setup.plot.bar(figsize=(8,4),\n",
    "                       title='Surface L2 vs. Case / Learning Rate by Example — GAN PMS',\n",
    "                       xlabel='Case / GAN Learning Rate',\n",
    "                       ylabel='Surface L2 (SL2)'\n",
    "                      )\n",
    "\n",
    "for tick in ax.get_xticklabels():\n",
    "    tick.set_rotation(0)\n",
    "ax.legend(loc='upper left')\n",
    "plt.ylim((0,.45))\n",
    "plt.grid()\n",
    "plt.show()\n",
    "ax.get_figure().savefig('./final_plots/plt-lr-02.png', dpi=200)\n",
    "\n",
    "\n",
    "\n",
    "GAN_LR_plot_setup#.reset_index()"
   ]
  },
  {
   "cell_type": "code",
   "execution_count": null,
   "metadata": {
    "scrolled": false
   },
   "outputs": [],
   "source": [
    "GAN_IS_plot_setup = final_setup_long.unstack()['norms_fake_lst'].astype(float).reset_index()\n",
    "GAN_IS_plot_setup['is_rel'] = GAN_IS_plot_setup.reset_index()['kernel'] == 1\n",
    "GAN_IS_plot_setup = GAN_IS_plot_setup[GAN_IS_plot_setup['is_rel']].drop('is_rel', axis=1).set_index(['gan_version','learning_rate','inferred_stud','kernel','bot_num'])\n",
    "GAN_IS_plot_setup = GAN_IS_plot_setup['norms_fake_lst'].unstack()\n",
    "GAN_IS_plot_setup = GAN_IS_plot_setup.groupby(['gan_version', 'inferred_stud']).min()\n",
    "ax = GAN_IS_plot_setup.plot.bar(figsize=(8,7),\n",
    "                       title='Surface L2 vs. Case / Studio Light Method by Example — GAN PMS',\n",
    "                       xlabel='Case / Studio Ground Truth (S) or Inferred (I)',\n",
    "                       ylabel='Surface L2 (SL2)'\n",
    "                      )\n",
    "# ax.legend(loc='upper left')\n",
    "plt.legend(loc=(1.02, 0.635))\n",
    "plt.ylim((0,.45))\n",
    "plt.grid()\n",
    "\n",
    "for tick in ax.get_xticklabels():\n",
    "    tick.set_rotation(0)\n",
    "ax.get_figure().savefig('./final_plots/plt-is-01.png', dpi=200, bbox_inches='tight')\n",
    "\n",
    "\n",
    "ax = GAN_IS_plot_setup.plot.bar(figsize=(8,4),\n",
    "                       title='Surface L2 vs. Case / Studio Light Method by Example — GAN PMS',\n",
    "                       xlabel='Case / Studio Ground Truth (S) or Inferred (I)',\n",
    "                       ylabel='Surface L2 (SL2)'\n",
    "                      )\n",
    "plt.legend(loc=(1.02, 0.36))\n",
    "# ax.legend(loc='upper left')\n",
    "plt.ylim((0,.45))\n",
    "plt.grid()\n",
    "\n",
    "for tick in ax.get_xticklabels():\n",
    "    tick.set_rotation(0)\n",
    "ax.get_figure().savefig('./final_plots/plt-is-02.png', dpi=200, bbox_inches='tight')\n",
    "\n",
    "\n",
    "GAN_IS_plot_setup#.reset_index()"
   ]
  },
  {
   "cell_type": "code",
   "execution_count": null,
   "metadata": {},
   "outputs": [],
   "source": [
    "GAN_IS_plot_setup"
   ]
  },
  {
   "cell_type": "code",
   "execution_count": null,
   "metadata": {},
   "outputs": [],
   "source": [
    "GAN_IS_plot_setup = final_setup_long.unstack()['norms_fake_lst'].astype(float).reset_index()\n",
    "GAN_IS_plot_setup['is_rel'] = (GAN_IS_plot_setup.reset_index()['gan_version'] == 'B')&(GAN_IS_plot_setup.reset_index()['learning_rate'] == '0.001')&(GAN_IS_plot_setup.reset_index()['inferred_stud'] == 'S')\n",
    "GAN_IS_plot_setup = GAN_IS_plot_setup[GAN_IS_plot_setup['is_rel']].drop('is_rel', axis=1).set_index(['gan_version','learning_rate','inferred_stud','kernel','bot_num'])\n",
    "GAN_IS_plot_setup = GAN_IS_plot_setup['norms_fake_lst'].unstack()\n",
    "GAN_IS_plot_setup = GAN_IS_plot_setup.groupby(['gan_version', 'learning_rate', 'inferred_stud', 'kernel']).min()\n",
    "ax = GAN_IS_plot_setup.plot.bar(figsize=(8,7),\n",
    "                       title='SL2 vs. Case B Average Pooling Kernel Size by Example — GAN PMS',\n",
    "                       xlabel='Case B Average Pooling Kernel Size (1x1, 2x2, or 3x3)',\n",
    "                       ylabel='Surface L2 (SL2)'\n",
    "                      )\n",
    "ax.legend(loc='upper right')\n",
    "plt.ylim((0,.45))\n",
    "plt.grid()\n",
    "\n",
    "for tick in ax.get_xticklabels():\n",
    "    tick.set_rotation(0) \n",
    "ax.get_figure().savefig('./final_plots/plt-avg-01.png', dpi=200)\n",
    "\n",
    "\n",
    "ax = GAN_IS_plot_setup.plot.bar(figsize=(8,4),\n",
    "                       title='SL2 vs. Case B Average Pooling Kernel Size by Example — GAN PMS',\n",
    "                       xlabel='Case B Average Pooling Kernel Size (1x1, 2x2, or 3x3)',\n",
    "                       ylabel='Surface L2 (SL2)'\n",
    "                      )\n",
    "ax.legend(loc='upper right')\n",
    "plt.ylim((0,.45))\n",
    "plt.grid()\n",
    "\n",
    "for tick in ax.get_xticklabels():\n",
    "    tick.set_rotation(0)\n",
    "ax.get_figure().savefig('./final_plots/plt-avg-02.png', dpi=200)\n",
    "\n",
    "\n",
    "GAN_IS_plot_setup#.reset_index()"
   ]
  },
  {
   "cell_type": "code",
   "execution_count": null,
   "metadata": {},
   "outputs": [],
   "source": []
  },
  {
   "cell_type": "code",
   "execution_count": null,
   "metadata": {},
   "outputs": [],
   "source": []
  },
  {
   "cell_type": "code",
   "execution_count": null,
   "metadata": {},
   "outputs": [],
   "source": []
  },
  {
   "cell_type": "code",
   "execution_count": null,
   "metadata": {},
   "outputs": [],
   "source": []
  },
  {
   "cell_type": "code",
   "execution_count": null,
   "metadata": {},
   "outputs": [],
   "source": [
    "# GAN_LR_plot_setup.plot.bar?"
   ]
  },
  {
   "cell_type": "code",
   "execution_count": null,
   "metadata": {},
   "outputs": [],
   "source": [
    "# GAN_LR_plot_setup = final_setup_long.unstack()['norms_fake_lst'].astype(float).reset_index()\n",
    "# GAN_LR_plot_setup['is_rel'] = GAN_LR_plot_setup.reset_index()['kernel'] == 1\n",
    "# GAN_LR_plot_setup = GAN_LR_plot_setup[GAN_LR_plot_setup['is_rel']].drop('is_rel', axis=1).set_index(['gan_version','learning_rate','inferred_stud','kernel','bot_num'])\n",
    "# GAN_LR_plot_setup = GAN_LR_plot_setup['norms_fake_lst'].unstack()\n",
    "# GAN_LR_plot_setup = GAN_LR_plot_setup.groupby(['gan_version', 'inferred_stud', 'learning_rate']).min()\n",
    "# ax = GAN_LR_plot_setup.plot.bar(figsize=(12,6))\n",
    "\n",
    "# for tick in ax.get_xticklabels():\n",
    "#     tick.set_rotation(60)\n",
    "\n",
    "# plt.grid()\n",
    "# GAN_LR_plot_setup#.reset_index()"
   ]
  },
  {
   "cell_type": "code",
   "execution_count": null,
   "metadata": {},
   "outputs": [],
   "source": []
  },
  {
   "cell_type": "code",
   "execution_count": null,
   "metadata": {},
   "outputs": [],
   "source": [
    "# Full Table — In Appendix\n",
    "# * PMS by different Lighting Conditions\n",
    "# * No Averaging\n",
    "# * Averaging for the Best Lighting\n",
    "\n",
    "\n",
    "# * Pure PMS by LC\n",
    "# * GAN-Method (4), Kernel Size 1, LR (2) — 8 Bars per Index\n",
    "# * GAN-Method (4), Kernel Size 1, Inferred Studio (2) — 8 Bars per Index\n",
    "# * Best GAN-Method / LR / IS — 3 Kernel Sizes per Index"
   ]
  },
  {
   "cell_type": "code",
   "execution_count": null,
   "metadata": {},
   "outputs": [],
   "source": []
  },
  {
   "cell_type": "code",
   "execution_count": null,
   "metadata": {},
   "outputs": [],
   "source": [
    "# Pure PMS\n",
    "# Good Pure PMS — bottle_setup_104_pms_navg_3Dfig_view2.png\n",
    "\n",
    "# Before / After Averaging...\n",
    "# 1 Good: After — bottle_setup_97_gan_avg_3Dfig_view2.png, Before — bottle_setup_97_gan_navg_3Dfig_view2.png\n",
    "#         Pure PMS Bad — bottle_setup_97_pms_navg_3Dfig_view2.png\n",
    "\n",
    "# 1 Bad: After — bottle_setup_101_gan_avg_3Dfig_view2.png, Before — bottle_setup_101_gan_navg_3Dfig_view2.png\n",
    "\n",
    "# Bottle 102\n",
    "\n",
    "# Small Details Causing Issues...\n",
    "# Point Failures — Avg. Bad — bottle_setup_99_gan_avg_3Dfig_view2.png,\n",
    "#                  PMS Fine — bottle_setup_99_pms_navg_3Dfig_view2\n",
    "\n"
   ]
  },
  {
   "cell_type": "code",
   "execution_count": null,
   "metadata": {},
   "outputs": [],
   "source": []
  },
  {
   "cell_type": "code",
   "execution_count": null,
   "metadata": {},
   "outputs": [],
   "source": []
  },
  {
   "cell_type": "code",
   "execution_count": null,
   "metadata": {},
   "outputs": [],
   "source": []
  },
  {
   "cell_type": "code",
   "execution_count": null,
   "metadata": {},
   "outputs": [],
   "source": []
  },
  {
   "cell_type": "code",
   "execution_count": null,
   "metadata": {},
   "outputs": [],
   "source": []
  }
 ],
 "metadata": {
  "kernelspec": {
   "display_name": "Python 3",
   "language": "python",
   "name": "python3"
  },
  "language_info": {
   "codemirror_mode": {
    "name": "ipython",
    "version": 3
   },
   "file_extension": ".py",
   "mimetype": "text/x-python",
   "name": "python",
   "nbconvert_exporter": "python",
   "pygments_lexer": "ipython3",
   "version": "3.8.5"
  }
 },
 "nbformat": 4,
 "nbformat_minor": 4
}
